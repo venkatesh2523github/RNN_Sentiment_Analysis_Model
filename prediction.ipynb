{
 "cells": [
  {
   "cell_type": "code",
   "execution_count": 3,
   "metadata": {},
   "outputs": [],
   "source": [
    "# import all the libraries\n",
    "import numpy as np\n",
    "import tensorflow as tf\n",
    "from tensorflow.keras.datasets import imdb\n",
    "from tensorflow.keras.preprocessing import sequence\n",
    "from tensorflow.keras.models import load_model"
   ]
  },
  {
   "cell_type": "code",
   "execution_count": 4,
   "metadata": {},
   "outputs": [
    {
     "name": "stdout",
     "output_type": "stream",
     "text": [
      "Downloading data from https://storage.googleapis.com/tensorflow/tf-keras-datasets/imdb_word_index.json\n",
      "\u001b[1m1641221/1641221\u001b[0m \u001b[32m━━━━━━━━━━━━━━━━━━━━\u001b[0m\u001b[37m\u001b[0m \u001b[1m1s\u001b[0m 0us/step\n"
     ]
    }
   ],
   "source": [
    "# Load the IMDB dataset and index\n",
    "word_index = imdb.get_word_index()\n",
    "reverse_word_index = {value: key for key, value in word_index.items()}\n"
   ]
  },
  {
   "cell_type": "code",
   "execution_count": 5,
   "metadata": {},
   "outputs": [
    {
     "name": "stderr",
     "output_type": "stream",
     "text": [
      "WARNING:absl:Compiled the loaded model, but the compiled metrics have yet to be built. `model.compile_metrics` will be empty until you train or evaluate the model.\n"
     ]
    },
    {
     "data": {
      "text/html": [
       "<pre style=\"white-space:pre;overflow-x:auto;line-height:normal;font-family:Menlo,'DejaVu Sans Mono',consolas,'Courier New',monospace\"><span style=\"font-weight: bold\">Model: \"sequential\"</span>\n",
       "</pre>\n"
      ],
      "text/plain": [
       "\u001b[1mModel: \"sequential\"\u001b[0m\n"
      ]
     },
     "metadata": {},
     "output_type": "display_data"
    },
    {
     "data": {
      "text/html": [
       "<pre style=\"white-space:pre;overflow-x:auto;line-height:normal;font-family:Menlo,'DejaVu Sans Mono',consolas,'Courier New',monospace\">┏━━━━━━━━━━━━━━━━━━━━━━━━━━━━━━━━━┳━━━━━━━━━━━━━━━━━━━━━━━━┳━━━━━━━━━━━━━━━┓\n",
       "┃<span style=\"font-weight: bold\"> Layer (type)                    </span>┃<span style=\"font-weight: bold\"> Output Shape           </span>┃<span style=\"font-weight: bold\">       Param # </span>┃\n",
       "┡━━━━━━━━━━━━━━━━━━━━━━━━━━━━━━━━━╇━━━━━━━━━━━━━━━━━━━━━━━━╇━━━━━━━━━━━━━━━┩\n",
       "│ embedding (<span style=\"color: #0087ff; text-decoration-color: #0087ff\">Embedding</span>)           │ (<span style=\"color: #00d7ff; text-decoration-color: #00d7ff\">None</span>, <span style=\"color: #00af00; text-decoration-color: #00af00\">500</span>, <span style=\"color: #00af00; text-decoration-color: #00af00\">128</span>)       │       <span style=\"color: #00af00; text-decoration-color: #00af00\">128,000</span> │\n",
       "├─────────────────────────────────┼────────────────────────┼───────────────┤\n",
       "│ simple_rnn (<span style=\"color: #0087ff; text-decoration-color: #0087ff\">SimpleRNN</span>)          │ (<span style=\"color: #00d7ff; text-decoration-color: #00d7ff\">None</span>, <span style=\"color: #00af00; text-decoration-color: #00af00\">128</span>)            │        <span style=\"color: #00af00; text-decoration-color: #00af00\">32,896</span> │\n",
       "├─────────────────────────────────┼────────────────────────┼───────────────┤\n",
       "│ dense (<span style=\"color: #0087ff; text-decoration-color: #0087ff\">Dense</span>)                   │ (<span style=\"color: #00d7ff; text-decoration-color: #00d7ff\">None</span>, <span style=\"color: #00af00; text-decoration-color: #00af00\">1</span>)              │           <span style=\"color: #00af00; text-decoration-color: #00af00\">129</span> │\n",
       "└─────────────────────────────────┴────────────────────────┴───────────────┘\n",
       "</pre>\n"
      ],
      "text/plain": [
       "┏━━━━━━━━━━━━━━━━━━━━━━━━━━━━━━━━━┳━━━━━━━━━━━━━━━━━━━━━━━━┳━━━━━━━━━━━━━━━┓\n",
       "┃\u001b[1m \u001b[0m\u001b[1mLayer (type)                   \u001b[0m\u001b[1m \u001b[0m┃\u001b[1m \u001b[0m\u001b[1mOutput Shape          \u001b[0m\u001b[1m \u001b[0m┃\u001b[1m \u001b[0m\u001b[1m      Param #\u001b[0m\u001b[1m \u001b[0m┃\n",
       "┡━━━━━━━━━━━━━━━━━━━━━━━━━━━━━━━━━╇━━━━━━━━━━━━━━━━━━━━━━━━╇━━━━━━━━━━━━━━━┩\n",
       "│ embedding (\u001b[38;5;33mEmbedding\u001b[0m)           │ (\u001b[38;5;45mNone\u001b[0m, \u001b[38;5;34m500\u001b[0m, \u001b[38;5;34m128\u001b[0m)       │       \u001b[38;5;34m128,000\u001b[0m │\n",
       "├─────────────────────────────────┼────────────────────────┼───────────────┤\n",
       "│ simple_rnn (\u001b[38;5;33mSimpleRNN\u001b[0m)          │ (\u001b[38;5;45mNone\u001b[0m, \u001b[38;5;34m128\u001b[0m)            │        \u001b[38;5;34m32,896\u001b[0m │\n",
       "├─────────────────────────────────┼────────────────────────┼───────────────┤\n",
       "│ dense (\u001b[38;5;33mDense\u001b[0m)                   │ (\u001b[38;5;45mNone\u001b[0m, \u001b[38;5;34m1\u001b[0m)              │           \u001b[38;5;34m129\u001b[0m │\n",
       "└─────────────────────────────────┴────────────────────────┴───────────────┘\n"
      ]
     },
     "metadata": {},
     "output_type": "display_data"
    },
    {
     "data": {
      "text/html": [
       "<pre style=\"white-space:pre;overflow-x:auto;line-height:normal;font-family:Menlo,'DejaVu Sans Mono',consolas,'Courier New',monospace\"><span style=\"font-weight: bold\"> Total params: </span><span style=\"color: #00af00; text-decoration-color: #00af00\">161,027</span> (629.02 KB)\n",
       "</pre>\n"
      ],
      "text/plain": [
       "\u001b[1m Total params: \u001b[0m\u001b[38;5;34m161,027\u001b[0m (629.02 KB)\n"
      ]
     },
     "metadata": {},
     "output_type": "display_data"
    },
    {
     "data": {
      "text/html": [
       "<pre style=\"white-space:pre;overflow-x:auto;line-height:normal;font-family:Menlo,'DejaVu Sans Mono',consolas,'Courier New',monospace\"><span style=\"font-weight: bold\"> Trainable params: </span><span style=\"color: #00af00; text-decoration-color: #00af00\">161,025</span> (629.00 KB)\n",
       "</pre>\n"
      ],
      "text/plain": [
       "\u001b[1m Trainable params: \u001b[0m\u001b[38;5;34m161,025\u001b[0m (629.00 KB)\n"
      ]
     },
     "metadata": {},
     "output_type": "display_data"
    },
    {
     "data": {
      "text/html": [
       "<pre style=\"white-space:pre;overflow-x:auto;line-height:normal;font-family:Menlo,'DejaVu Sans Mono',consolas,'Courier New',monospace\"><span style=\"font-weight: bold\"> Non-trainable params: </span><span style=\"color: #00af00; text-decoration-color: #00af00\">0</span> (0.00 B)\n",
       "</pre>\n"
      ],
      "text/plain": [
       "\u001b[1m Non-trainable params: \u001b[0m\u001b[38;5;34m0\u001b[0m (0.00 B)\n"
      ]
     },
     "metadata": {},
     "output_type": "display_data"
    },
    {
     "data": {
      "text/html": [
       "<pre style=\"white-space:pre;overflow-x:auto;line-height:normal;font-family:Menlo,'DejaVu Sans Mono',consolas,'Courier New',monospace\"><span style=\"font-weight: bold\"> Optimizer params: </span><span style=\"color: #00af00; text-decoration-color: #00af00\">2</span> (12.00 B)\n",
       "</pre>\n"
      ],
      "text/plain": [
       "\u001b[1m Optimizer params: \u001b[0m\u001b[38;5;34m2\u001b[0m (12.00 B)\n"
      ]
     },
     "metadata": {},
     "output_type": "display_data"
    }
   ],
   "source": [
    "# Load the pre-trained model with ReLU activation\n",
    "model = load_model('simple_rnn_imdb.h5')\n",
    "model.summary()"
   ]
  },
  {
   "cell_type": "code",
   "execution_count": 6,
   "metadata": {},
   "outputs": [
    {
     "data": {
      "text/plain": [
       "[array([[-1.36322331e+00, -1.45802128e+00,  1.31471026e+00, ...,\n",
       "         -1.28719008e+00, -1.38873112e+00, -1.31181216e+00],\n",
       "        [-1.10112645e-01,  2.71938887e-04,  2.71638390e-02, ...,\n",
       "         -6.75772782e-03, -3.89251821e-02,  1.76696554e-02],\n",
       "        [ 2.71132533e-02, -1.47246331e-01, -1.20293371e-01, ...,\n",
       "         -1.92051694e-01, -1.72796100e-01, -1.34736195e-01],\n",
       "        ...,\n",
       "        [ 1.76839158e-02,  6.19978085e-02, -1.88576654e-02, ...,\n",
       "          2.38311030e-02,  1.04023695e-01,  2.07476486e-02],\n",
       "        [-1.32710906e-02,  1.08851701e-01, -6.82730451e-02, ...,\n",
       "         -7.69715235e-02, -8.64667073e-03,  3.63476947e-03],\n",
       "        [ 1.09031953e-01,  6.34325370e-02, -8.34660083e-02, ...,\n",
       "         -1.97925624e-02,  9.02941301e-02,  1.02987587e-01]], dtype=float32),\n",
       " array([[ 0.03827308, -0.03551361, -0.03344623, ..., -0.18497123,\n",
       "         -0.01319557, -0.05021728],\n",
       "        [-0.09603589,  0.11031108,  0.0009674 , ...,  0.04607084,\n",
       "         -0.06697059, -0.04330828],\n",
       "        [ 0.09705703,  0.07898521,  0.14281936, ...,  0.1669753 ,\n",
       "          0.06003615,  0.04782423],\n",
       "        ...,\n",
       "        [-0.10416079, -0.02253592, -0.08223243, ..., -0.08280658,\n",
       "         -0.11470228, -0.02337073],\n",
       "        [-0.04647451, -0.16589639,  0.12563714, ...,  0.0840421 ,\n",
       "          0.09992465,  0.12176729],\n",
       "        [ 0.16862664, -0.14743224, -0.11080049, ..., -0.13825221,\n",
       "          0.08790973, -0.0733126 ]], dtype=float32),\n",
       " array([[-0.04062415, -0.00958569,  0.1217713 , ...,  0.09268022,\n",
       "         -0.03011005,  0.07295988],\n",
       "        [-0.11654104,  0.04977502, -0.12852082, ..., -0.00881035,\n",
       "          0.04263603, -0.00069918],\n",
       "        [ 0.02280248,  0.02874343,  0.03344159, ..., -0.0387181 ,\n",
       "          0.1520792 ,  0.11272395],\n",
       "        ...,\n",
       "        [-0.12136144, -0.15998687,  0.0683909 , ...,  0.04699885,\n",
       "          0.08088702,  0.05971835],\n",
       "        [ 0.11111858,  0.01719513, -0.07802956, ...,  0.08116402,\n",
       "         -0.09736214, -0.03984444],\n",
       "        [-0.04796782,  0.00105228, -0.2306458 , ..., -0.00118765,\n",
       "          0.13349897, -0.06654476]], dtype=float32),\n",
       " array([-0.01530685,  0.05104735,  0.02177744,  0.04369349, -0.01751566,\n",
       "        -0.03661313, -0.04173456, -0.00323063,  0.02189511, -0.02460599,\n",
       "         0.02613581,  0.01557329,  0.01981128, -0.04242953, -0.04103982,\n",
       "        -0.03357332, -0.05407674, -0.04279407, -0.01868008,  0.06164647,\n",
       "         0.0117425 , -0.01505851, -0.04167093, -0.01158455,  0.01683923,\n",
       "        -0.05786717,  0.00141241,  0.00110092, -0.0676171 , -0.01746138,\n",
       "         0.01156143, -0.04402642, -0.01792292, -0.04252448,  0.00759897,\n",
       "         0.05696752,  0.00940245, -0.0046075 ,  0.03194235, -0.03025579,\n",
       "        -0.01109598, -0.01791046,  0.0164626 , -0.03849857, -0.00932505,\n",
       "        -0.04197044, -0.00960983, -0.04105038, -0.00167558, -0.04781519,\n",
       "         0.01682647,  0.0139133 , -0.04275674, -0.00183745, -0.05768891,\n",
       "         0.00914749, -0.06816319, -0.01678968,  0.00341087,  0.01010262,\n",
       "         0.05431529,  0.04334361, -0.01551586,  0.00828047,  0.04354689,\n",
       "        -0.01597647, -0.06835701,  0.05210378, -0.01145996,  0.0041693 ,\n",
       "        -0.00675008, -0.05101103, -0.01654685,  0.00578298, -0.00215769,\n",
       "         0.05314829, -0.04001986,  0.05961797, -0.05094108, -0.0423166 ,\n",
       "        -0.04594642,  0.00592348, -0.00181336,  0.0346416 ,  0.02831455,\n",
       "         0.04910951,  0.00555523, -0.01431028,  0.04130952,  0.04493996,\n",
       "        -0.01525374,  0.00349518, -0.00938852, -0.03192557, -0.04384965,\n",
       "        -0.03566594, -0.05321985,  0.0351155 , -0.02509381, -0.03080426,\n",
       "        -0.02065227,  0.0529757 ,  0.05854016, -0.00995071, -0.0303977 ,\n",
       "        -0.0031338 ,  0.02930335, -0.03644106, -0.02531588,  0.00620569,\n",
       "        -0.05063558,  0.00110803, -0.0450859 ,  0.01508395, -0.03234043,\n",
       "        -0.02734948, -0.02484708, -0.01322948,  0.0027851 , -0.04506745,\n",
       "        -0.02262847, -0.0756908 ,  0.0089809 , -0.0294697 , -0.059064  ,\n",
       "         0.0012292 , -0.03921941, -0.02676282], dtype=float32),\n",
       " array([[ 1.30207360e-01],\n",
       "        [-1.30125672e-01],\n",
       "        [-3.04151535e-01],\n",
       "        [-1.42785951e-01],\n",
       "        [ 1.35053158e-01],\n",
       "        [ 2.39805341e-01],\n",
       "        [ 3.31528485e-01],\n",
       "        [ 1.99252516e-01],\n",
       "        [ 2.65905440e-01],\n",
       "        [ 3.68715912e-01],\n",
       "        [ 1.49863258e-01],\n",
       "        [-3.36739682e-02],\n",
       "        [ 2.12696567e-01],\n",
       "        [ 9.64491591e-02],\n",
       "        [-3.11481923e-01],\n",
       "        [ 1.92256495e-01],\n",
       "        [ 3.05788331e-02],\n",
       "        [ 8.40288252e-02],\n",
       "        [ 1.53406247e-01],\n",
       "        [-3.51430625e-02],\n",
       "        [-1.53575242e-01],\n",
       "        [ 1.74839705e-01],\n",
       "        [ 6.18309438e-01],\n",
       "        [ 1.87312573e-01],\n",
       "        [-5.64252250e-02],\n",
       "        [ 7.57638365e-03],\n",
       "        [ 2.39705041e-01],\n",
       "        [ 2.16034323e-01],\n",
       "        [-1.28953895e-02],\n",
       "        [ 1.84970707e-01],\n",
       "        [ 1.01200566e-01],\n",
       "        [-6.17500879e-02],\n",
       "        [ 1.41467392e-01],\n",
       "        [ 2.41294444e-01],\n",
       "        [ 5.77998348e-02],\n",
       "        [ 9.90955457e-02],\n",
       "        [ 4.41644192e-01],\n",
       "        [-1.46054938e-01],\n",
       "        [ 8.17669705e-02],\n",
       "        [ 1.26698226e-01],\n",
       "        [ 5.80141664e-01],\n",
       "        [-5.07690795e-02],\n",
       "        [-1.75146535e-01],\n",
       "        [ 6.37589172e-02],\n",
       "        [ 5.79454899e-02],\n",
       "        [ 2.01404825e-01],\n",
       "        [-6.81132823e-02],\n",
       "        [ 1.20270737e-01],\n",
       "        [-1.20744549e-01],\n",
       "        [ 1.02967620e-01],\n",
       "        [ 8.24582055e-02],\n",
       "        [-3.15963268e-01],\n",
       "        [ 1.95724502e-01],\n",
       "        [ 2.10059397e-02],\n",
       "        [ 1.82020217e-02],\n",
       "        [ 2.72060465e-02],\n",
       "        [ 8.09598640e-02],\n",
       "        [ 1.77946776e-01],\n",
       "        [ 1.43661052e-01],\n",
       "        [ 3.87689881e-02],\n",
       "        [-1.13686927e-01],\n",
       "        [-7.44587556e-02],\n",
       "        [-1.35540560e-01],\n",
       "        [ 4.30037342e-02],\n",
       "        [ 1.92219406e-01],\n",
       "        [ 2.42461786e-01],\n",
       "        [-1.04595028e-01],\n",
       "        [ 1.20823542e-02],\n",
       "        [ 5.70119843e-02],\n",
       "        [-1.44613937e-01],\n",
       "        [ 2.44330212e-01],\n",
       "        [ 2.05585942e-01],\n",
       "        [ 1.02647141e-01],\n",
       "        [ 3.46300676e-02],\n",
       "        [ 1.67755350e-01],\n",
       "        [-1.48500651e-01],\n",
       "        [ 1.61386341e-01],\n",
       "        [-1.26953408e-01],\n",
       "        [-1.54214606e-01],\n",
       "        [-1.92027912e-01],\n",
       "        [ 6.38179332e-02],\n",
       "        [ 7.07219392e-02],\n",
       "        [-2.05016360e-01],\n",
       "        [ 1.49064441e-03],\n",
       "        [-1.14463143e-01],\n",
       "        [ 1.07017569e-02],\n",
       "        [ 1.88604325e-01],\n",
       "        [-1.21943913e-01],\n",
       "        [-1.14417963e-01],\n",
       "        [-1.79344133e-01],\n",
       "        [-1.20680869e-01],\n",
       "        [-1.44977927e-01],\n",
       "        [ 3.93512279e-01],\n",
       "        [ 1.89991146e-01],\n",
       "        [ 1.84436947e-01],\n",
       "        [ 1.92154139e-01],\n",
       "        [-3.70498225e-02],\n",
       "        [ 7.76138678e-02],\n",
       "        [ 1.76251054e-01],\n",
       "        [ 1.12331919e-02],\n",
       "        [ 6.85599819e-02],\n",
       "        [ 1.74529795e-02],\n",
       "        [-9.55919251e-02],\n",
       "        [-8.12614113e-02],\n",
       "        [ 1.87378019e-01],\n",
       "        [ 3.87715667e-01],\n",
       "        [ 4.58479263e-02],\n",
       "        [ 1.33710295e-01],\n",
       "        [ 3.53988633e-02],\n",
       "        [ 1.02862380e-01],\n",
       "        [-8.67643580e-02],\n",
       "        [ 6.50763586e-02],\n",
       "        [-1.21179722e-01],\n",
       "        [ 5.70998013e-01],\n",
       "        [-6.04592934e-02],\n",
       "        [-6.55724481e-02],\n",
       "        [-2.40462292e-02],\n",
       "        [ 1.36908352e-01],\n",
       "        [ 1.09433174e-01],\n",
       "        [-1.62527695e-01],\n",
       "        [ 4.69528258e-01],\n",
       "        [-2.38673783e-05],\n",
       "        [ 3.06540221e-01],\n",
       "        [ 1.16702601e-01],\n",
       "        [ 1.78311139e-01],\n",
       "        [ 2.32803792e-01],\n",
       "        [-2.05733523e-01],\n",
       "        [ 8.40061232e-02]], dtype=float32),\n",
       " array([0.49877632], dtype=float32)]"
      ]
     },
     "execution_count": 6,
     "metadata": {},
     "output_type": "execute_result"
    }
   ],
   "source": [
    "# getting all the model weights\n",
    "\n",
    "model.get_weights()"
   ]
  },
  {
   "cell_type": "code",
   "execution_count": 7,
   "metadata": {},
   "outputs": [],
   "source": [
    "#Step2: Helper Functions\n",
    "#Function to decode reviews\n",
    "def decode_review(encoded_review):\n",
    "    return ' '.join([reverse_word_index.get(i - 3, '?') for i in encoded_review])\n",
    "\n",
    "# Function to preprocess the user input\n",
    "def preprocess_text(text):\n",
    "    words = text.lower().split()\n",
    "    encoded_review = [word_index.get(word, 2) + 3 for word in words]\n",
    "    padded_review = sequence.pad_sequences([encoded_review], maxlen=500)\n",
    "    return padded_review"
   ]
  },
  {
   "cell_type": "code",
   "execution_count": 10,
   "metadata": {},
   "outputs": [],
   "source": [
    "# Prediction function\n",
    "\n",
    "def predict_sentiment(review):\n",
    "    preprocessed_input = preprocess_text(review)\n",
    "    \n",
    "    prediction = model.predict(preprocessed_input)\n",
    "\n",
    "    sentiment = 'Positive' if prediction[0][0] > 0.5 else 'Negative'\n",
    "\n",
    "    return sentiment, prediction[0][0]\n"
   ]
  },
  {
   "cell_type": "code",
   "execution_count": 11,
   "metadata": {},
   "outputs": [
    {
     "name": "stdout",
     "output_type": "stream",
     "text": [
      "\u001b[1m1/1\u001b[0m \u001b[32m━━━━━━━━━━━━━━━━━━━━\u001b[0m\u001b[37m\u001b[0m \u001b[1m0s\u001b[0m 35ms/step\n",
      "Review: This movie was fantastic! The acting was great and the plot was thrilling.\n",
      "Sentiment: Positive\n",
      "Prediction Score: 0.583303689956665\n"
     ]
    }
   ],
   "source": [
    "# Step4: User Input and Prediction\n",
    "# Example review for prediction\n",
    "example_review = \"This movie was fantastic! The acting was great and the plot was thrilling.\"\n",
    "\n",
    "sentiment, score = predict_sentiment(example_review)\n",
    "\n",
    "print(f\"Review: {example_review}\")\n",
    "print(f\"Sentiment: {sentiment}\")\n",
    "print(f\"Prediction Score: {score}\")"
   ]
  },
  {
   "cell_type": "code",
   "execution_count": null,
   "metadata": {},
   "outputs": [],
   "source": []
  },
  {
   "cell_type": "code",
   "execution_count": null,
   "metadata": {},
   "outputs": [],
   "source": []
  },
  {
   "cell_type": "code",
   "execution_count": null,
   "metadata": {},
   "outputs": [],
   "source": []
  }
 ],
 "metadata": {
  "kernelspec": {
   "display_name": "vicenv",
   "language": "python",
   "name": "python3"
  },
  "language_info": {
   "codemirror_mode": {
    "name": "ipython",
    "version": 3
   },
   "file_extension": ".py",
   "mimetype": "text/x-python",
   "name": "python",
   "nbconvert_exporter": "python",
   "pygments_lexer": "ipython3",
   "version": "3.12.3"
  }
 },
 "nbformat": 4,
 "nbformat_minor": 2
}
